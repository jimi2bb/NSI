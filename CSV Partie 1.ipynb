{
 "cells": [
  {
   "cell_type": "markdown",
   "metadata": {
    "id": "zN5nK2Y2W6eo"
   },
   "source": [
    "# Les données structurées au format CSV\n",
    "\n",
    "\n",
    "\n",
    "1. Lecture\n",
    "2. Requêtes\n",
    "3. Tris\n",
    "\n",
    "\n",
    "\n",
    "**Définition wiki** : Comma-separated values, connu sous le sigle CSV, est un format texte ouvert représentant des données tabulaires sous forme de valeurs séparées par des virgules. \n",
    "Un fichier CSV est un fichier texte, par opposition aux formats dits « binaires ». Chaque ligne du texte correspond à une ligne du tableau et les virgules correspondent aux séparations entre les colonnes. Les portions de texte séparées par une virgule correspondent ainsi aux contenus des cellules du tableau. Une ligne est une suite ordonnée de caractères terminée par un caractère de fin de ligne (line break – LF ou CRLF), la dernière ligne pouvant en être exemptée.\n",
    "\n",
    "\n",
    "**Intro** : Pour nos premiers pas avec csv, nous allons utiliser des données très simples au format CSV : ces données sont contenues dans le fichier à télécharger: [personnes.csv](https://drive.google.com/file/d/1feD9WnZdobmybqzUbIIr0mXH0OPk7nY2/view?usp=sharing) \n",
    "\n",
    "Importez ce fichier dans le meme dossier que ce notebook. On l'ouvrira avec le bloc-notes ou notepad++ \n"
   ]
  },
  {
   "cell_type": "markdown",
   "metadata": {
    "id": "NZw8hJJvSoT0"
   },
   "source": [
    "Après avoir découvert le format CSV, nous allons maintenant, à l'aide de Python, apprendre à effectuer des traitements sur ces données.  \n",
    "\n",
    "Pour traiter des données, nous allons utiliser la bibliothèque Python csv et nous n'utiliserons pas le tableur.\n",
    "\n",
    "# (1ère partie) Lecture d'un fichier csv"
   ]
  },
  {
   "cell_type": "markdown",
   "metadata": {
    "id": "N30-nQwlSoT0"
   },
   "source": [
    "## Méthode avec csv.reader\n",
    "a) Lire et comprendre le fichier csv comme une liste de listes"
   ]
  },
  {
   "cell_type": "markdown",
   "metadata": {
    "id": "2BOizlqbSoT0"
   },
   "source": [
    "Après avoir importé dans la session le fichier `personnes.csv`, exécutez le code ci-dessous"
   ]
  },
  {
   "cell_type": "code",
   "execution_count": 2,
   "metadata": {
    "colab": {
     "base_uri": "https://localhost:8080/"
    },
    "id": "LMm6t7buSoT1",
    "outputId": "7ac25b80-0603-4bba-eec7-0b6533db42e7",
    "scrolled": true
   },
   "outputs": [
    {
     "name": "stdout",
     "output_type": "stream",
     "text": [
      "['nom', 'prenom', 'age']\n",
      "['Durand', 'Jean-Pierre', '32']\n",
      "['Dupont', 'Christophe', '51']\n",
      "['Terta', 'Henry', '37']\n",
      "['Kapri', 'Leon', '45']\n",
      "['Lenard', 'Georges', '15']\n",
      "['Herpan', 'stephan', '22']\n",
      "['Mastic', 'Brice', '61']\n",
      "['Pouyeau', 'Maxime', '27']\n",
      "['Arox', 'Gilles', '51']\n",
      "['Follin', 'Paul', '32']\n",
      "[]\n"
     ]
    }
   ],
   "source": [
    "import csv\n",
    "with open('personnes.csv', mode = \"r\" , newline = '') as csvFile :\n",
    "    fichier_lu = csv.reader(csvFile)\n",
    "    for ligne in fichier_lu:\n",
    "        print(ligne)\n",
    "    lu = [ligne for ligne in fichier_lu]\n",
    "\n",
    "# voyons le résutat :\n",
    "print(lu)\n",
    "    \n",
    "    "
   ]
  },
  {
   "cell_type": "markdown",
   "metadata": {
    "id": "A3fuihl_SoT1"
   },
   "source": [
    "Le code ci-dessus est très simple :  \n",
    "  \n",
    "- **import** Avec la première ligne, nous importons la bibliothèque `csv`.\n",
    "- **open** ouvre le fichier en lecture (mode = \"r\" pour read) -> cvsFile (objet de type objFile)\n",
    "- **initialisation** du lecteur (reader) de csvFile.\n",
    "- **lecture ligne par ligne** la boucle for permet d'énumérer les différentes lignes de csvFile.\n",
    "\n",
    "La première liste affichée correspondant au nom des entêtes des colonnes."
   ]
  },
  {
   "cell_type": "markdown",
   "metadata": {
    "id": "9A-F8ToWD9tB"
   },
   "source": [
    "**Exercice** Ecrire une fonction qui lit un fichier et renvoie la liste de listes"
   ]
  },
  {
   "cell_type": "code",
   "execution_count": 5,
   "metadata": {
    "id": "zGRZg4JkD51k"
   },
   "outputs": [],
   "source": [
    "def readCSV(filename) :\n",
    "    with open(filename, mode = \"r\" , newline = '') as csvFile :\n",
    "        reader = csv.reader(csvFile)\n",
    "        lu = [ligne for ligne in reader]\n",
    "    return lu"
   ]
  },
  {
   "cell_type": "markdown",
   "metadata": {},
   "source": [
    "Ecrire un code qui lit les 10 premiers ligne du csv top14"
   ]
  },
  {
   "cell_type": "code",
   "execution_count": 6,
   "metadata": {
    "scrolled": true
   },
   "outputs": [
    {
     "name": "stdout",
     "output_type": "stream",
     "text": [
      "['Equipe', 'Nom', 'Poste', 'Date de naissance', 'Taille', 'Poids']\n",
      "['Agen', 'Anton PEIKRISHVILI', 'Pilier', '18/09/1987', '183', '122']\n",
      "['Agen', 'Dave RYAN', 'Pilier', '21/04/1986', '183', '116']\n",
      "['Agen', 'Giorgi TETRASHVILI', 'Pilier', '31/08/1993', '177', '112']\n",
      "['Agen', 'Kamaliele TUFELE', 'Pilier', '11/10/1995', '182', '123']\n",
      "['Agen', 'Malino VANAÏ', 'Pilier', '04/05/1993', '183', '119']\n",
      "['Agen', 'Morgan PHÉLIPPONNEAU', 'Pilier', '05/09/1989', '185', '106']\n",
      "['Agen', 'Walter DESMAISON', 'Pilier', '18/10/1991', '188', '119']\n",
      "['Agen', 'Clément MARTINEZ', 'Talonneur', '14/03/1996', '181', '105']\n",
      "['Agen', 'Marc BARTHOMEUF', 'Talonneur', '19/07/1991', '174', '100']\n"
     ]
    }
   ],
   "source": [
    "import csv\n",
    "with open('top14.csv', mode = \"r\" , newline = '', encoding = 'utf-8') as csvFile :\n",
    "    reader = csv.reader(csvFile)\n",
    "    ligne_csv = [ligne for ligne in reader]\n",
    "    for i in range(10):\n",
    "        print(ligne_csv[i])\n",
    "        "
   ]
  },
  {
   "cell_type": "markdown",
   "metadata": {
    "id": "qwv-aXY2PAaL"
   },
   "source": [
    "## Méthode avec csv.DictReader"
   ]
  },
  {
   "cell_type": "code",
   "execution_count": 7,
   "metadata": {},
   "outputs": [
    {
     "data": {
      "text/plain": [
       "[{'nom': 'Durand', 'prénom': 'Jean-Pierre', 'age': 32},\n",
       " {'nom': 'Dupont', 'prenom': 'Christophe', 'age': '51'}]"
      ]
     },
     "execution_count": 7,
     "metadata": {},
     "output_type": "execute_result"
    }
   ],
   "source": [
    "[{\"nom\":\"Durand\",\"prénom\":\"Jean-Pierre\",\"age\":32},{'nom': 'Dupont', 'prenom': 'Christophe', 'age': '51'}]"
   ]
  },
  {
   "cell_type": "markdown",
   "metadata": {
    "id": "gyHcUhweSoT2"
   },
   "source": [
    "### Lire et comprendre le fichier csv en utilisant une liste de dictionnaires"
   ]
  },
  {
   "cell_type": "code",
   "execution_count": 10,
   "metadata": {
    "colab": {
     "base_uri": "https://localhost:8080/"
    },
    "id": "XQZLWpQHSoT2",
    "outputId": "c200b65c-5666-4aaf-80ae-34ecf1f22df3"
   },
   "outputs": [
    {
     "name": "stdout",
     "output_type": "stream",
     "text": [
      "[{'nom': 'Durand', 'prenom': 'Jean-Pierre', 'age': '32'}, {'nom': 'Dupont', 'prenom': 'Christophe', 'age': '51'}, {'nom': 'Terta', 'prenom': 'Henry', 'age': '37'}, {'nom': 'Kapri', 'prenom': 'Leon', 'age': '45'}, {'nom': 'Lenard', 'prenom': 'Georges', 'age': '15'}, {'nom': 'Herpan', 'prenom': 'stephan', 'age': '22'}, {'nom': 'Mastic', 'prenom': 'Brice', 'age': '61'}, {'nom': 'Pouyeau', 'prenom': 'Maxime', 'age': '27'}, {'nom': 'Arox', 'prenom': 'Gilles', 'age': '51'}, {'nom': 'Follin', 'prenom': 'Paul', 'age': '32'}]\n"
     ]
    }
   ],
   "source": [
    "import csv\n",
    "with open('personnes.csv', mode = \"r\" , newline = '',encoding=\"utf-8\") as csvFile :\n",
    "    reader = csv.DictReader(csvFile)\n",
    "    \n",
    "    lu = [dict(ligne) for ligne in reader]\n",
    "\n",
    "# voyons le résutat :\n",
    "print(lu)"
   ]
  },
  {
   "cell_type": "markdown",
   "metadata": {},
   "source": [
    "ecrire un code pour trouver le prénom de celui qui s'appelle 'Arox'"
   ]
  },
  {
   "cell_type": "code",
   "execution_count": 9,
   "metadata": {},
   "outputs": [
    {
     "name": "stdout",
     "output_type": "stream",
     "text": [
      "Gilles\n"
     ]
    }
   ],
   "source": [
    "for element in lu:\n",
    "    if element['nom']=='Arox':\n",
    "        print(element['prenom'])"
   ]
  },
  {
   "cell_type": "markdown",
   "metadata": {},
   "source": [
    "Ecrire (en compréhension) la liste des noms des personnes ayant plus de 45 ans"
   ]
  },
  {
   "cell_type": "code",
   "execution_count": 11,
   "metadata": {},
   "outputs": [
    {
     "data": {
      "text/plain": [
       "['Dupont', 'Kapri', 'Mastic', 'Arox']"
      ]
     },
     "execution_count": 11,
     "metadata": {},
     "output_type": "execute_result"
    }
   ],
   "source": [
    "lst1=[element['nom'] for element in lu if int(element[\"age\"])>=45]"
   ]
  },
  {
   "cell_type": "markdown",
   "metadata": {},
   "source": [
    "Ecrire la liste des ages des personnes aynat un 't' dans leur prénom"
   ]
  },
  {
   "cell_type": "code",
   "execution_count": 14,
   "metadata": {},
   "outputs": [
    {
     "name": "stdout",
     "output_type": "stream",
     "text": [
      "[51, 22]\n"
     ]
    }
   ],
   "source": [
    "lst2=[int(element['age']) for element in lu if 't' in element['prenom']]\n",
    "print(lst2)"
   ]
  },
  {
   "cell_type": "markdown",
   "metadata": {
    "id": "Z1L_Kt3gSoT3"
   },
   "source": [
    " Plutôt qu’une liste de listes, une instruction permet d’obtenir chaque enregistrement au format dictionnaire : **dict**.\n",
    "\n",
    "\n",
    "```\n",
    "On obtient ainsi une liste de dictionnaires, à savoir :\n",
    "\tlisteDico = [ {clé1:enr1_val1, clé2:enr1_val2, …},\n",
    "\t  {clé1:enr2_val1, clé2:enr2_val2, …},\n",
    "\t  {clé1:enr3_val1, clé2:enr3_val2, …} ]\n",
    "```\n",
    "\n",
    "Une telle structure est mieux adaptée. D'une part, les en-tête ne sont plus lus comme une ligne banale mais sont utilisées comme clefs dans les dictionnaires. D'autre part, chaque élément *listeDico[i]* est un dictionnaire et il sera plus facile de manipuler :\n",
    "```\n",
    "listeDico[i] = {'classe':'TG1' , 'nb_elev':'34', 'nb_garçons':'16' , 'nb_filles':'18' , 'nb_admis':'33', …}\n",
    "plutôt que  : listeDico[i] = ['TG1','34',  16 ,  18 , '33', …]\n",
    "```\n",
    "\n",
    "Dans un fichier avec beaucoup de colonnes, il est assez fastidieux de se souvenir a quoi correspond l'indice d'une colonne. dans l'exemple, *listeDico[i][3]* est le nombre de filles, tandis que avec le dictionnaire on écrira *listeDico[i]['nb_filles']*. Et imaginez quand il y a beaucoup de colonnes, comme il est difficile de retrouver quel indice de colonne correspond à quoi...\n",
    "\n"
   ]
  },
  {
   "cell_type": "markdown",
   "metadata": {
    "id": "4o5GvC6hFZHS"
   },
   "source": [
    "### Ecrire une fonction qui lit un fichier et renvoie la liste de dictionnaires"
   ]
  },
  {
   "cell_type": "code",
   "execution_count": 16,
   "metadata": {
    "id": "QqPUDQSsSoT3"
   },
   "outputs": [],
   "source": [
    "def readCSV(filename) :\n",
    "    with open(filename, mode = \"r\" , newline = '') as csvFile :\n",
    "        reader = csv.DictReader(csvFile)\n",
    "        #print(list(reader))\n",
    "        lu = [dict(ligne) for ligne in reader]\n",
    "    return lu"
   ]
  },
  {
   "cell_type": "code",
   "execution_count": 17,
   "metadata": {
    "colab": {
     "base_uri": "https://localhost:8080/"
    },
    "id": "ZfOgtKIjFkpq",
    "outputId": "312b5e5f-cc1b-4103-a43f-e5228f5c7160",
    "scrolled": true
   },
   "outputs": [
    {
     "name": "stdout",
     "output_type": "stream",
     "text": [
      "[{'nom': 'Durand', 'prenom': 'Jean-Pierre', 'age': '32'}, {'nom': 'Dupont', 'prenom': 'Christophe', 'age': '51'}, {'nom': 'Terta', 'prenom': 'Henry', 'age': '37'}, {'nom': 'Kapri', 'prenom': 'Leon', 'age': '45'}, {'nom': 'Lenard', 'prenom': 'Georges', 'age': '15'}, {'nom': 'Herpan', 'prenom': 'stephan', 'age': '22'}, {'nom': 'Mastic', 'prenom': 'Brice', 'age': '61'}, {'nom': 'Pouyeau', 'prenom': 'Maxime', 'age': '27'}, {'nom': 'Arox', 'prenom': 'Gilles', 'age': '51'}, {'nom': 'Follin', 'prenom': 'Paul', 'age': '32'}]\n"
     ]
    }
   ],
   "source": [
    "personnes = readCSV('personnes.csv')\n",
    "print(personnes)\n"
   ]
  },
  {
   "cell_type": "markdown",
   "metadata": {
    "id": "zhAzKZlnGDb0"
   },
   "source": [
    "<center><font size=\"5\" color=\"darkyellow\">RETENIR</font>\n",
    "\n",
    "![image.png](data:image/png;base64,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)"
   ]
  },
  {
   "cell_type": "markdown",
   "metadata": {
    "id": "MoZYFxcUSoT3"
   },
   "source": [
    "Quelle est la différence entre `csv.reader(mon_fichier)` et `csv.DictReader(mon_fichier)` ?"
   ]
  },
  {
   "cell_type": "markdown",
   "metadata": {
    "id": "w28dHjv3SoT3"
   },
   "source": [
    "Réponse : "
   ]
  },
  {
   "cell_type": "markdown",
   "metadata": {
    "id": "DlFlC5g_Pd3L"
   },
   "source": [
    "## Extraire des données suivant certains critères"
   ]
  },
  {
   "cell_type": "markdown",
   "metadata": {
    "id": "wHhPRmR1SoT3"
   },
   "source": [
    "Nous désirons sélectionner des données suivant un certain critère, par exemple trouver tous les renseignements de M. Herpan, ou trouver toutes les personnes âgées de moins de 30 ans... Quelle syntaxe allons-nous choisir?"
   ]
  },
  {
   "cell_type": "markdown",
   "metadata": {
    "id": "z4_zotLmSoT4"
   },
   "source": [
    "### Trouver tous les renseignements des personnes portant le nom \"Lenard\""
   ]
  },
  {
   "cell_type": "code",
   "execution_count": 17,
   "metadata": {
    "colab": {
     "base_uri": "https://localhost:8080/"
    },
    "id": "v-Srbp7RSoT4",
    "outputId": "f00253db-dcf8-4923-a161-4000b29689f5"
   },
   "outputs": [
    {
     "name": "stdout",
     "output_type": "stream",
     "text": [
      "{'nom': 'Lenard', 'prenom': 'Georges', 'age': '15'}\n"
     ]
    }
   ],
   "source": [
    "infos = [p for p in personnes if p['nom'] == 'Lenard']\n",
    "for elem in infos :\n",
    "    print(elem)"
   ]
  },
  {
   "cell_type": "markdown",
   "metadata": {
    "id": "RWSqeCSESoT4"
   },
   "source": [
    "### Trouver tous les renseignements des personnes âgées de plus de 30 ans"
   ]
  },
  {
   "cell_type": "code",
   "execution_count": null,
   "metadata": {
    "colab": {
     "base_uri": "https://localhost:8080/"
    },
    "id": "OGxKygYJSoT4",
    "outputId": "d93952a7-bca3-494e-9674-3fc72bd6c1a0"
   },
   "outputs": [
    {
     "name": "stdout",
     "output_type": "stream",
     "text": [
      "{'nom': 'Durand', 'prenom': 'Jean-Pierre', 'age': '32'}\n",
      "{'nom': 'Dupont', 'prenom': 'Christophe', 'age': '51'}\n",
      "{'nom': 'Terta', 'prenom': 'Henry', 'age': '37'}\n",
      "{'nom': 'Kapri', 'prenom': 'Leon', 'age': '45'}\n",
      "{'nom': 'Mastic', 'prenom': 'Brice', 'age': '61'}\n",
      "{'nom': 'Arox', 'prenom': 'Gilles', 'age': '51'}\n",
      "{'nom': 'Follin', 'prenom': 'Paul', 'age': '32'}\n"
     ]
    }
   ],
   "source": [
    "plus30 = [p for p in personnes if int(p['age']) >30]\n",
    "for pers in plus30 :\n",
    "    print(pers)"
   ]
  },
  {
   "cell_type": "markdown",
   "metadata": {
    "id": "vkN5M6uzRQRX"
   },
   "source": [
    "### afficher les noms et prénoms des personnes de plus de 30 ans"
   ]
  },
  {
   "cell_type": "code",
   "execution_count": 21,
   "metadata": {
    "id": "wiEeTg3bRXB2"
   },
   "outputs": [
    {
     "name": "stdout",
     "output_type": "stream",
     "text": [
      "[('Durand', 'Jean-Pierre'), ('Dupont', 'Christophe'), ('Terta', 'Henry'), ('Kapri', 'Leon'), ('Mastic', 'Brice'), ('Arox', 'Gilles'), ('Follin', 'Paul')]\n"
     ]
    }
   ],
   "source": [
    "nom_prenom_plus30=[(element['nom'],element['prenom']) for element in personnes if int(element['age'])>30]\n",
    "\n",
    "print(nom_prenom_plus30)"
   ]
  },
  {
   "cell_type": "markdown",
   "metadata": {
    "id": "qlmBTNt9SFis"
   },
   "source": [
    "### afficher les noms et prénoms des personnes dont le nom commence par M"
   ]
  },
  {
   "cell_type": "code",
   "execution_count": 23,
   "metadata": {
    "id": "6lQThBxTSFjG"
   },
   "outputs": [
    {
     "name": "stdout",
     "output_type": "stream",
     "text": [
      "[('Mastic', 'Brice')]\n"
     ]
    }
   ],
   "source": [
    "nom_preno_M=[(element['nom'],element['prenom']) for element in personnes if 'M' == element['nom'][0]]\n",
    "print(nom_preno_M)"
   ]
  },
  {
   "cell_type": "markdown",
   "metadata": {
    "id": "65vetpX5SkFF"
   },
   "source": [
    "### afficher l'age moyen des personnes dans le fichier"
   ]
  },
  {
   "cell_type": "code",
   "execution_count": 27,
   "metadata": {
    "id": "odNTeMLDSkFH"
   },
   "outputs": [
    {
     "name": "stdout",
     "output_type": "stream",
     "text": [
      "37.3\n"
     ]
    }
   ],
   "source": [
    "age_perso=[int(element['age']) for element in personnes]\n",
    "print(sum(age_perso)/len(age_perso))\n"
   ]
  },
  {
   "cell_type": "markdown",
   "metadata": {
    "id": "SjN2Dhw4THZL"
   },
   "source": [
    "### afficher tous les noms en ordre alphabétique"
   ]
  },
  {
   "cell_type": "code",
   "execution_count": 35,
   "metadata": {
    "id": "bz5Z0X0-THZN"
   },
   "outputs": [
    {
     "name": "stdout",
     "output_type": "stream",
     "text": [
      "['Arox', 'Dupont', 'Durand', 'Follin', 'Herpan', 'Kapri', 'Lenard', 'Mastic', 'Pouyeau', 'Terta']\n"
     ]
    }
   ],
   "source": [
    "r=\"\"\n",
    "lst=[element['nom'] for element in personnes]\n",
    "\n",
    "lst.sort() # tri la liste\n",
    "print(lst)\n",
    "\n",
    "lst2=sorted(lst) # ne touche pas la liste lst\n",
    "print(lst2)"
   ]
  },
  {
   "cell_type": "markdown",
   "metadata": {
    "id": "OI3PgWNVThaJ"
   },
   "source": [
    "### afficher toutes les informations en triant les noms en ordre alphabétique\n"
   ]
  },
  {
   "cell_type": "code",
   "execution_count": null,
   "metadata": {
    "colab": {
     "base_uri": "https://localhost:8080/"
    },
    "id": "ebe1eEFJThaL",
    "outputId": "eb947130-d7b6-47a3-b488-6992e6d26c18"
   },
   "outputs": [
    {
     "name": "stdout",
     "output_type": "stream",
     "text": [
      "{'nom': 'Arox', 'prenom': 'Gilles', 'age': '51'}\n",
      "{'nom': 'Dupont', 'prenom': 'Christophe', 'age': '51'}\n",
      "{'nom': 'Durand', 'prenom': 'Jean-Pierre', 'age': '32'}\n",
      "{'nom': 'Follin', 'prenom': 'Paul', 'age': '32'}\n",
      "{'nom': 'Herpan', 'prenom': 'stephan', 'age': '22'}\n",
      "{'nom': 'Kapri', 'prenom': 'Leon', 'age': '45'}\n",
      "{'nom': 'Lenard', 'prenom': 'Michel', 'age': '17'}\n",
      "{'nom': 'Lenard', 'prenom': 'Georges', 'age': '15'}\n",
      "{'nom': 'Lenard', 'prenom': 'Michel', 'age': '17'}\n",
      "{'nom': 'Lenard', 'prenom': 'Georges', 'age': '15'}\n",
      "{'nom': 'Mastic', 'prenom': 'Brice', 'age': '61'}\n",
      "{'nom': 'Pouyeau', 'prenom': 'Maxime', 'age': '27'}\n",
      "{'nom': 'Terta', 'prenom': 'Henry', 'age': '37'}\n"
     ]
    }
   ],
   "source": [
    "# une première solution : extraires les noms, trier la liste, puis\n",
    "# parcourir la liste pour récuppérer et afficher les infos...\n",
    "# mais....\n",
    "\n",
    "# essayez..."
   ]
  },
  {
   "cell_type": "markdown",
   "metadata": {
    "id": "0399itf_aryO"
   },
   "source": [
    "Vous remarquez qu'on a doublonné Lenard Michel et Georges..."
   ]
  },
  {
   "cell_type": "markdown",
   "metadata": {
    "id": "1upu-tB2cA4g"
   },
   "source": [
    "Tout ceci est un peu fastidieux et ce n'est pas la bonne méthode pour trier nos données, mais pour vous en convaincre il fallait commencer ainsi...\n",
    "\n",
    "Nous allons voir dans la deuxième partie la bonne façon d'opérer des tris."
   ]
  },
  {
   "cell_type": "markdown",
   "metadata": {
    "id": "KmS_2g6BcVwY"
   },
   "source": [
    "\n",
    "\n",
    "## Trier les données suivant certaines colonnes\n"
   ]
  },
  {
   "cell_type": "markdown",
   "metadata": {
    "id": "KMkDaXN_c00g"
   },
   "source": [
    "### Tri sur un unique critère"
   ]
  },
  {
   "cell_type": "markdown",
   "metadata": {
    "id": "bO6uX5ZHdYJX"
   },
   "source": [
    "Reprenons notre tableau initial, nommé personnes :"
   ]
  },
  {
   "cell_type": "code",
   "execution_count": null,
   "metadata": {
    "id": "cHUfAUTydTEV"
   },
   "outputs": [],
   "source": [
    "personnes = readCSV('personnes.csv')"
   ]
  },
  {
   "cell_type": "markdown",
   "metadata": {
    "id": "pwyu14ztddiq"
   },
   "source": [
    "Trier ce tableau avec personnes.sort() n'aurait aucun sens et provoque une erreur :"
   ]
  },
  {
   "cell_type": "code",
   "execution_count": null,
   "metadata": {
    "colab": {
     "base_uri": "https://localhost:8080/",
     "height": 161
    },
    "id": "SHFgB4e2dk1j",
    "outputId": "8e8a1b8d-47e5-4971-f044-e34a5c80b726"
   },
   "outputs": [
    {
     "ename": "TypeError",
     "evalue": "ignored",
     "output_type": "error",
     "traceback": [
      "\u001b[0;31m---------------------------------------------------------------------------\u001b[0m",
      "\u001b[0;31mTypeError\u001b[0m                                 Traceback (most recent call last)",
      "\u001b[0;32m<ipython-input-59-570cbedcb7b5>\u001b[0m in \u001b[0;36m<module>\u001b[0;34m()\u001b[0m\n\u001b[0;32m----> 1\u001b[0;31m \u001b[0mpersonnes\u001b[0m\u001b[0;34m.\u001b[0m\u001b[0msort\u001b[0m\u001b[0;34m(\u001b[0m\u001b[0;34m)\u001b[0m\u001b[0;34m\u001b[0m\u001b[0;34m\u001b[0m\u001b[0m\n\u001b[0m",
      "\u001b[0;31mTypeError\u001b[0m: '<' not supported between instances of 'dict' and 'dict'"
     ]
    }
   ],
   "source": [
    "personnes.sort()"
   ]
  },
  {
   "cell_type": "markdown",
   "metadata": {
    "id": "UKnDsSSBdpHE"
   },
   "source": [
    "Comprenons bien ceci :\n",
    "<font color=\"#ee3333\">TypeError:</font> '<' not supported between instances of 'dict' and 'dict'"
   ]
  },
  {
   "cell_type": "markdown",
   "metadata": {
    "id": "ydqgobTMd91H"
   },
   "source": [
    "❓ Que nous dit l'interpréteur ?"
   ]
  },
  {
   "cell_type": "markdown",
   "metadata": {
    "id": "KVt2q5mJeBDk"
   },
   "source": [
    "Pour trier, il faut faire des comparaisons entre les éléments. Or ici, nos éléments sont des dictionnaires. \n",
    "'<' n'est pas possible entre *dict* et *dict*  : on ne peut comparer deux dictionnaires.\n",
    "\n",
    "Et c'est assez logique, comment comparer Durand Jean-Pierre 32 ans et Tetra Henry 37 ans ? sur l'age ? le nom ? Nous n'avons pas précisé !\n",
    "\n",
    "C'est ce que nous allons faire en définissant une 🔑 clé de tri\n",
    "<center><font color=\"darkyellow\" size=\"5\">RETENIR</font></center>\n",
    "\n",
    "```\n",
    "Une clé est une fonction qui reçoit en argument un dictionnaire et renvoie la valeur associée à une clé du dictionnaire.\n",
    "\n",
    "    def ma_fonction ( dictionnaire )  :\n",
    "            return dictionnaire['en_tete_colonne']\n",
    "\n",
    "Cette fonction sera associée à l’argument key de la méthode sort() : \n",
    "\n",
    "\tpersonnes.sort ( key = ma_fonction ) # Notez que key prend pour valeur le nom de la fonction sans les parenthèses.\n",
    "```\n",
    "\n"
   ]
  },
  {
   "cell_type": "code",
   "execution_count": null,
   "metadata": {
    "id": "1mWUOC9RhjXE"
   },
   "outputs": [],
   "source": [
    "# Créez  2 clés avec notre dictionnaire\n",
    "\n",
    "def cle_age(dico) :\n",
    "    pass\n",
    "\n",
    "def cle_nom(dico) :\n",
    "    pass"
   ]
  },
  {
   "cell_type": "code",
   "execution_count": null,
   "metadata": {
    "id": "oD1paDE5Jhlp"
   },
   "outputs": [],
   "source": [
    "# Faire un tri par age :\n",
    "\n",
    "for p in personnes :\n",
    "    print(p)"
   ]
  },
  {
   "cell_type": "code",
   "execution_count": null,
   "metadata": {
    "id": "9OKmsaE7h_pX"
   },
   "outputs": [],
   "source": [
    "# ou par age décroissant :\n",
    "\n",
    "\n",
    "for p in personnes :\n",
    "    print(p)"
   ]
  },
  {
   "cell_type": "code",
   "execution_count": null,
   "metadata": {
    "id": "D3wKqzJjJhYp"
   },
   "outputs": [],
   "source": [
    "# ou par noms :\n",
    "\n",
    "\n",
    "for p in personnes :\n",
    "    print(p)"
   ]
  },
  {
   "cell_type": "markdown",
   "metadata": {
    "id": "Iw39n7Yy_Q3m"
   },
   "source": [
    "\n",
    "\n",
    "---\n",
    "\n",
    "<center><font color=\"orange\" size=\"6\"><b>IV. TP récapitulatif</b></font></center>\n",
    "\n",
    "\n",
    "---\n",
    "\n"
   ]
  },
  {
   "cell_type": "markdown",
   "metadata": {
    "id": "uyIpGHsoW5Xg"
   },
   "source": [
    "<font color=\"orange\" size=\"5\"><b><center>Première partie : requêtes et tris</center></b></font>\n",
    "\n",
    "Dans cette première partie, nous allons procéder comme dans l'exemple précédent."
   ]
  },
  {
   "cell_type": "markdown",
   "metadata": {
    "id": "VBR9FwjkkIJb"
   },
   "source": [
    "⏬ Téléchargez maintenant le fichier [villes.csv](https://drive.google.com/file/d/1Zi_spru-r9J1TMTiT8lw18wTNya8hClw/view?usp=sharing) puis importez le dans la session. Il est trop volumineux pour un affichage rapide.... vous allez devoir travailler dessus pour savoir ce qu'il contient !"
   ]
  },
  {
   "cell_type": "markdown",
   "metadata": {
    "id": "WIJlLYa4k6ko"
   },
   "source": [
    "<font color=\"orange\" size=\"4\">➽ Modifier le code pour lire villes.csv et  créer la liste <u>*villes*</u> en utilisant une liste en compréhension :</font>"
   ]
  },
  {
   "cell_type": "code",
   "execution_count": 37,
   "metadata": {
    "collapsed": true,
    "id": "mXU6sLvNk6kp"
   },
   "outputs": [
    {
     "name": "stdout",
     "output_type": "stream",
     "text": [
      "{'dep': '1', 'nom': 'Ozan', 'cp': '1190', 'nb_hab_2010': '618', 'nb_hab_1999': '469', 'nb_hab_2012': '500', 'dens': '93', 'surf': '6.6', 'long': '4.91667', 'lat': '46.3833', 'alt_min': '170', 'alt_max': '205'}\n",
      "{'dep': '1', 'nom': 'Cormoranche-sur-Saône', 'cp': '1290', 'nb_hab_2010': '1058', 'nb_hab_1999': '903', 'nb_hab_2012': '1000', 'dens': '107', 'surf': '9.85', 'long': '4.83333', 'lat': '46.2333', 'alt_min': '168', 'alt_max': '211'}\n",
      "{'dep': '1', 'nom': 'Plagne', 'cp': '1130', 'nb_hab_2010': '129', 'nb_hab_1999': '83', 'nb_hab_2012': '100', 'dens': '20', 'surf': '6.2', 'long': '5.73333', 'lat': '46.1833', 'alt_min': '560', 'alt_max': '922'}\n",
      "{'dep': '1', 'nom': 'Tossiat', 'cp': '1250', 'nb_hab_2010': '1406', 'nb_hab_1999': '1111', 'nb_hab_2012': '1400', 'dens': '138', 'surf': '10.17', 'long': '5.31667', 'lat': '46.1333', 'alt_min': '244', 'alt_max': '501'}\n",
      "{'dep': '1', 'nom': 'Pouillat', 'cp': '1250', 'nb_hab_2010': '88', 'nb_hab_1999': '58', 'nb_hab_2012': '100', 'dens': '14', 'surf': '6.23', 'long': '5.43333', 'lat': '46.3333', 'alt_min': '333', 'alt_max': '770'}\n",
      "{'dep': '1', 'nom': 'Torcieu', 'cp': '1230', 'nb_hab_2010': '698', 'nb_hab_1999': '643', 'nb_hab_2012': '700', 'dens': '65', 'surf': '10.72', 'long': '5.4', 'lat': '45.9167', 'alt_min': '257', 'alt_max': '782'}\n",
      "{'dep': '1', 'nom': 'Replonges', 'cp': '1620', 'nb_hab_2010': '3500', 'nb_hab_1999': '2841', 'nb_hab_2012': '3300', 'dens': '210', 'surf': '16.6', 'long': '4.88333', 'lat': '46.3', 'alt_min': '169', 'alt_max': '207'}\n",
      "{'dep': '1', 'nom': 'Corcelles', 'cp': '1110', 'nb_hab_2010': '243', 'nb_hab_1999': '222', 'nb_hab_2012': '200', 'dens': '17', 'surf': '14.16', 'long': '5.58333', 'lat': '46.0333', 'alt_min': '780', 'alt_max': '1081'}\n",
      "{'dep': '1', 'nom': 'Péron', 'cp': '1630', 'nb_hab_2010': '2143', 'nb_hab_1999': '1578', 'nb_hab_2012': '1900', 'dens': '82', 'surf': '26.01', 'long': '5.93333', 'lat': '46.2', 'alt_min': '411', 'alt_max': '1501'}\n",
      "{'dep': '1', 'nom': 'Relevant', 'cp': '1990', 'nb_hab_2010': '466', 'nb_hab_1999': '367', 'nb_hab_2012': '400', 'dens': '37', 'surf': '12.38', 'long': '4.95', 'lat': '46.0833', 'alt_min': '235', 'alt_max': '282'}\n"
     ]
    }
   ],
   "source": [
    "import csv\n",
    "with open('villes.csv', mode = \"r\" , newline = '',encoding=\"utf-8\") as csvFile :\n",
    "    reader = csv.DictReader(csvFile)\n",
    "    \n",
    "    villes = [dict(ligne) for ligne in reader]\n",
    "\n",
    "# voyons le résutat :\n",
    "for i in range(10):\n",
    "    print(villes[i])\n"
   ]
  },
  {
   "cell_type": "markdown",
   "metadata": {
    "id": "kpVZvzndlQMd"
   },
   "source": [
    "<font color=\"orange\" size=\"4\">➽ Affichez toutes les infos de la première ville du fichier:</font>"
   ]
  },
  {
   "cell_type": "code",
   "execution_count": 3,
   "metadata": {
    "id": "sAJJoSNClXVP"
   },
   "outputs": [
    {
     "name": "stdout",
     "output_type": "stream",
     "text": [
      "{'dep': '1', 'nom': 'Ozan', 'cp': '1190', 'nb_hab_2010': '618', 'nb_hab_1999': '469', 'nb_hab_2012': '500', 'dens': '93', 'surf': '6.6', 'long': '4.91667', 'lat': '46.3833', 'alt_min': '170', 'alt_max': '205'}\n"
     ]
    }
   ],
   "source": [
    "print(villes[0])"
   ]
  },
  {
   "cell_type": "markdown",
   "metadata": {},
   "source": [
    "obtenir la surface de la 1ere ville"
   ]
  },
  {
   "cell_type": "code",
   "execution_count": 8,
   "metadata": {},
   "outputs": [
    {
     "name": "stdout",
     "output_type": "stream",
     "text": [
      "6.6\n"
     ]
    }
   ],
   "source": [
    "print(villes[0]['surf'])"
   ]
  },
  {
   "cell_type": "markdown",
   "metadata": {},
   "source": [
    "Donnez les infos de Calvi"
   ]
  },
  {
   "cell_type": "code",
   "execution_count": 15,
   "metadata": {},
   "outputs": [
    {
     "name": "stdout",
     "output_type": "stream",
     "text": [
      "{'dep': '2B', 'nom': \"L'Île-Rousse\", 'cp': '20220', 'nb_hab_2010': '3201', 'nb_hab_1999': '2769', 'nb_hab_2012': '2900', 'dens': '1280', 'surf': '2.5', 'long': '8.93751', 'lat': '42.635', 'alt_min': '0', 'alt_max': '151'}\n"
     ]
    }
   ],
   "source": [
    "for element in villes:\n",
    "    if \"Rousse\" in element['nom'] and element['dep']=='2B' :\n",
    "        print(element)"
   ]
  },
  {
   "cell_type": "markdown",
   "metadata": {
    "id": "iQoqLsHjlzvP"
   },
   "source": [
    "<font color=\"orange\" size=\"4\">➽ Affichez le nombre de villes:</font>"
   ]
  },
  {
   "cell_type": "code",
   "execution_count": 39,
   "metadata": {
    "id": "BSU6YkvK_r_J"
   },
   "outputs": [
    {
     "data": {
      "text/plain": [
       "36700"
      ]
     },
     "execution_count": 39,
     "metadata": {},
     "output_type": "execute_result"
    }
   ],
   "source": [
    "nb_ville=0\n",
    "for element in villes:\n",
    "    nb_ville+=1\n",
    "nb_ville"
   ]
  },
  {
   "cell_type": "code",
   "execution_count": 42,
   "metadata": {},
   "outputs": [
    {
     "data": {
      "text/plain": [
       "36700"
      ]
     },
     "execution_count": 42,
     "metadata": {},
     "output_type": "execute_result"
    }
   ],
   "source": [
    "len(villes)"
   ]
  },
  {
   "cell_type": "markdown",
   "metadata": {
    "id": "_WWM-4S4noY2"
   },
   "source": [
    "<font color=\"orange\" size=\"4\">➽ Affichez les noms de toutes les villes de plus de 300000 habitants en 2012: \n",
    "\n",
    "(vous précéderez du nombre de ces villes)</font>"
   ]
  },
  {
   "cell_type": "code",
   "execution_count": 44,
   "metadata": {
    "id": "dHY6PZ89_ukh"
   },
   "outputs": [
    {
     "name": "stdout",
     "output_type": "stream",
     "text": [
      "dict_keys(['dep', 'nom', 'cp', 'nb_hab_2010', 'nb_hab_1999', 'nb_hab_2012', 'dens', 'surf', 'long', 'lat', 'alt_min', 'alt_max'])\n"
     ]
    }
   ],
   "source": [
    "print(villes[0].keys())"
   ]
  },
  {
   "cell_type": "code",
   "execution_count": 48,
   "metadata": {},
   "outputs": [
    {
     "name": "stdout",
     "output_type": "stream",
     "text": [
      "['Nice', 'Marseille', 'Toulouse', 'Lyon', 'Paris']\n",
      "Nice\n",
      "Marseille\n",
      "Toulouse\n",
      "Lyon\n",
      "Paris\n",
      "Nice\n",
      "Marseille\n",
      "Toulouse\n",
      "Lyon\n",
      "Paris\n"
     ]
    }
   ],
   "source": [
    "lst_villes300K=[ element['nom'] for element in villes if int(element['nb_hab_2012'])>300000]\n",
    "print(lst_villes300K)\n",
    "\n",
    "for i in range(len(lst_villes300K)):\n",
    "    print(lst_villes300K[i])\n",
    "    \n",
    "for ville in lst_villes300K:\n",
    "    print(ville)"
   ]
  },
  {
   "cell_type": "markdown",
   "metadata": {
    "id": "4QIfd2H5Dlpf"
   },
   "source": [
    "<font color=\"orange\" size=\"4\">➽ Ecrire une fonction typeOfClef( lstDict , cle , typeOf) qui modofie le type d'une colonne</font>"
   ]
  },
  {
   "cell_type": "code",
   "execution_count": null,
   "metadata": {
    "colab": {
     "base_uri": "https://localhost:8080/",
     "height": 278
    },
    "id": "8n9Ug3bAGsFF",
    "outputId": "8f60b29f-36ed-41ea-8f4c-779b477376e3"
   },
   "outputs": [
    {
     "name": "stdout",
     "output_type": "stream",
     "text": [
      " a est un  <class 'int'>\n",
      " a est un  <class 'float'>\n",
      " a est un  <class 'str'>\n"
     ]
    },
    {
     "ename": "ValueError",
     "evalue": "ignored",
     "output_type": "error",
     "traceback": [
      "\u001b[0;31m---------------------------------------------------------------------------\u001b[0m",
      "\u001b[0;31mValueError\u001b[0m                                Traceback (most recent call last)",
      "\u001b[0;32m<ipython-input-2-f095962f8770>\u001b[0m in \u001b[0;36m<module>\u001b[0;34m()\u001b[0m\n\u001b[1;32m     17\u001b[0m \u001b[0;31m# mais petit souci pour le type int :\u001b[0m\u001b[0;34m\u001b[0m\u001b[0;34m\u001b[0m\u001b[0;34m\u001b[0m\u001b[0m\n\u001b[1;32m     18\u001b[0m \u001b[0mt\u001b[0m\u001b[0;34m=\u001b[0m\u001b[0mint\u001b[0m\u001b[0;34m\u001b[0m\u001b[0;34m\u001b[0m\u001b[0m\n\u001b[0;32m---> 19\u001b[0;31m \u001b[0ma\u001b[0m \u001b[0;34m=\u001b[0m \u001b[0mt\u001b[0m\u001b[0;34m(\u001b[0m\u001b[0;34m\"1.2\"\u001b[0m\u001b[0;34m)\u001b[0m\u001b[0;34m\u001b[0m\u001b[0;34m\u001b[0m\u001b[0m\n\u001b[0m\u001b[1;32m     20\u001b[0m \u001b[0mprint\u001b[0m\u001b[0;34m(\u001b[0m\u001b[0;34m' a est un '\u001b[0m\u001b[0;34m,\u001b[0m\u001b[0mtype\u001b[0m\u001b[0;34m(\u001b[0m\u001b[0ma\u001b[0m\u001b[0;34m)\u001b[0m\u001b[0;34m)\u001b[0m\u001b[0;34m\u001b[0m\u001b[0;34m\u001b[0m\u001b[0m\n\u001b[1;32m     21\u001b[0m \u001b[0;31m# il faudrait, pour convertir en int, commencer par covertir en float, puis en int\u001b[0m\u001b[0;34m\u001b[0m\u001b[0;34m\u001b[0m\u001b[0;34m\u001b[0m\u001b[0m\n",
      "\u001b[0;31mValueError\u001b[0m: invalid literal for int() with base 10: '1.2'"
     ]
    }
   ],
   "source": [
    "# le 3ème paramètres est un type, vous n'avez pas l'habitude de\n",
    "# manipuler ces objets, mais les exemples ci-dessous vous \n",
    "# éclaireront sans doute \n",
    "\n",
    "t=int\n",
    "a = t(1.2)\n",
    "print(' a est un ',type(a))\n",
    "\n",
    "t=float\n",
    "a = t(1.2)\n",
    "print(' a est un ',type(a))\n",
    "\n",
    "t=str\n",
    "a = t(1.2)\n",
    "print(' a est un ',type(a))\n",
    "\n",
    "# mais petit souci pour le type int :\n",
    "t=int\n",
    "a = t(\"1.2\")\n",
    "print(' a est un ',type(a))\n",
    "# \"1.2\" ne peut pas être converti en int, mais en float (qui pourrait ensuite\n",
    "# être converti en int)\n",
    "# mais nous allons laisser le programmeur responsable de faire attention\n",
    "# à ce qu'il fait !"
   ]
  },
  {
   "cell_type": "code",
   "execution_count": null,
   "metadata": {
    "id": "W0xD7xanDlp2"
   },
   "outputs": [],
   "source": [
    "def typeOfClef(lstDict : list , cle : str , typeOf:type) -> None :\n",
    "    '''\n",
    "    Entrée : lstDict (liste de dictionnaire)\n",
    "    cle : nom d'une clef des dictionnaires (str)\n",
    "    typeOf : int, float, ou str : type dans lequel on souhaite encoder la colonne\n",
    "    La fonction modifie par effet de bord la liste lstDict\n",
    "    Le type d'une seule colonne est modifiée\n",
    "    '''\n",
    "    # précondition :\n",
    "    assert typeOf in [int,float,str]\n",
    "    for dico in lstDict :\n",
    "        dico[cle] = typeOf(dico[cle])\n"
   ]
  },
  {
   "cell_type": "markdown",
   "metadata": {
    "id": "Dh6INZ7eIYos"
   },
   "source": [
    "✅ vérification"
   ]
  },
  {
   "cell_type": "code",
   "execution_count": null,
   "metadata": {
    "id": "9Z-5595MIaRK"
   },
   "outputs": [],
   "source": [
    "typeOfClef(villes,'nb_hab_2012',int)\n",
    "assert type(villes[0]['nb_hab_2012']) == int"
   ]
  },
  {
   "cell_type": "code",
   "execution_count": null,
   "metadata": {
    "id": "fWt64GXaKcaQ"
   },
   "outputs": [],
   "source": [
    "# il est possible d'améliorer la fonction : au lieu de convertir\n",
    "# une seule colonne, on convertira une liste de colonnes\n",
    "\n",
    "# chaque colonne peut avoir un type différent\n",
    "# (à la fin du TP nous sauvegarderont les fonctions. Celle ci\n",
    "# et la précédente sont différentes et nous garderont les 2)\n",
    "\n",
    "def typeOfClefs(lstDict : list , lstCle : list) -> None :\n",
    "    '''\n",
    "    Entrée : lstDict (liste de dictionnaire)\n",
    "    dictCle : dictionnaire { noms de clefs:type } \n",
    "    typeOf : int, float, ou str : type dans lequel on souhaite encoder la colonne\n",
    "    La fonction modifie par effet de bord la liste lstDict\n",
    "    Le type des colonnes dont les noms sont des cles de lstCles sont modifiées\n",
    "    '''\n",
    "    # précondition :\n",
    "    ok = True\n",
    "    for cle in lstCle : \n",
    "        if lstCle[cle] not in [int,float,str] : ok = False\n",
    "    assert ok == True\n",
    "\n",
    "    for dico in lstDict :\n",
    "        for cle in lstCle :\n",
    "            dico[cle] = lstCle[cle](dico[cle])\n"
   ]
  },
  {
   "cell_type": "markdown",
   "metadata": {
    "id": "C4ZDk23GKuEO"
   },
   "source": [
    "✅ vérification"
   ]
  },
  {
   "cell_type": "code",
   "execution_count": null,
   "metadata": {
    "id": "MN-IdoIiKuEQ"
   },
   "outputs": [],
   "source": [
    "typeOfClefs(villes,{'nb_hab_1999':int,'nb_hab_2010':int,'nb_hab_2012':int,'dens':float})\n",
    "assert type(villes[0]['nb_hab_2012']) == int\n",
    "assert type(villes[0]['nb_hab_1999']) == int\n",
    "assert type(villes[0]['nb_hab_2010']) == int\n",
    "assert type(villes[0]['dens']) == float"
   ]
  },
  {
   "cell_type": "markdown",
   "metadata": {
    "id": "H98wjpvuN04e"
   },
   "source": [
    "<font color=\"orange\" size=\"4\">➽ Calculez la densité moyenne (simplement moyenne des densités)</font>\n",
    "\n",
    "```\n",
    "la densité moyenne est de  154.99604904632153\n",
    "```\n"
   ]
  },
  {
   "cell_type": "code",
   "execution_count": 52,
   "metadata": {
    "colab": {
     "base_uri": "https://localhost:8080/"
    },
    "id": "LSn9tt7TN8u2",
    "outputId": "a7cfa65c-74f3-4678-b257-f4f6ea89804f"
   },
   "outputs": [
    {
     "name": "stdout",
     "output_type": "stream",
     "text": [
      "154.99604904632153\n"
     ]
    }
   ],
   "source": [
    "lst_densit=[int(ville['dens']) for ville in villes]\n",
    "print(sum(lst_densit)/len(lst_densit))"
   ]
  },
  {
   "cell_type": "markdown",
   "metadata": {
    "id": "abioel0NOU8E"
   },
   "source": [
    "<font color=\"orange\" size=\"4\">➽ Calculez la densité moyenne pondérée</font>\n",
    "\n",
    "Plutot que faire une moyenne des densité, calculons la densité moyenne ainsi :\n",
    "\n",
    "$densité\\_moyenne = \\frac{ \\sum\\limits_{i=0}^{N-1}densité[i] \\times p_i }{ \\sum\\limits_{i=0}^{N-1}p_i} $\n",
    "\n",
    "ou : \n",
    "\n",
    "- N est le nombre de villes\n",
    "\n",
    "- $p_i =  \\sum\\limits_{i=0}^{N-1} \\frac{nb\\ hab\\ de\\ la\\ ville\\ i\\ en \\ 2012}{nombre\\ total\\ habitants\\ en\\ 2012}$\n",
    "\n",
    "- $densité[i] = densité\\ de\\ la\\ ieme\\ ville\\ en\\ 2012$\n",
    "\n",
    "```\n",
    "la densité moyenne est de  2548.8331644277364\n",
    "```\n"
   ]
  },
  {
   "cell_type": "code",
   "execution_count": null,
   "metadata": {
    "colab": {
     "base_uri": "https://localhost:8080/"
    },
    "id": "OejbdzIQOU8G",
    "outputId": "87754e8a-acf8-42d9-c9f2-4730b117dc73"
   },
   "outputs": [
    {
     "name": "stdout",
     "output_type": "stream",
     "text": [
      "la densité moyenne est de  2548.8331644277364\n"
     ]
    }
   ],
   "source": [
    "# votre code ici"
   ]
  },
  {
   "cell_type": "markdown",
   "metadata": {
    "id": "x6DGeY41UHTw"
   },
   "source": [
    "> Note : Ce calcul est un moyenne pondérée, mais ce chiffre ne représente pas la densité moyenne de la France, qui est bien inférieure. Ici, nous n'avons pris en compte les surface. Celà donne un poid exagéré aux grosses aglomérations qui occupent des surfaces limitées.\n",
    "\n",
    "En réalité, la région la plus peuplé (l'Île de France) affiche seulement 987ha / km², et c'est près de 10 fois plus que la moyenne Française.\n",
    "\n",
    "\n",
    "On peut trouver la densité moyenne simplement ainsi :\n",
    "\n",
    "$densité\\_moyenne = \\frac{nb\\_total\\_hab}{surface\\_totale}$"
   ]
  },
  {
   "cell_type": "markdown",
   "metadata": {
    "id": "ajZUSuBXXjir"
   },
   "source": [
    "<font color=\"orange\" size=\"4\">➽ Afficher les informations suivantes</font>\n",
    "\n",
    "```\n",
    "le nombre total d'habitants est  de  64264646\n",
    "la surface total est de  633345.6599999995\n",
    "la densité moyenne est de  101.46851878640813\n",
    "```"
   ]
  },
  {
   "cell_type": "code",
   "execution_count": null,
   "metadata": {
    "colab": {
     "base_uri": "https://localhost:8080/"
    },
    "id": "0bZ2X-BgVEjq",
    "outputId": "d25c11b0-b0a7-4a96-c143-12f011610d5b"
   },
   "outputs": [
    {
     "name": "stdout",
     "output_type": "stream",
     "text": [
      "le nombre total d'habitants est  de  64264646\n",
      "la surface total est de  633345.6599999995\n",
      "la densité moyenne est de  101.46851878640813\n"
     ]
    }
   ],
   "source": [
    "# votre code ici"
   ]
  },
  {
   "cell_type": "markdown",
   "metadata": {
    "id": "OFFHCCm3mN8J"
   },
   "source": [
    "<font color=\"orange\" size=\"4\">➽ Affichez les noms et le nombre d'habitants de toutes les villes de plus de 300000 habitants en 2012: \n",
    "\n",
    "(vous précéderez du nombre de ces villes)</font>"
   ]
  },
  {
   "cell_type": "code",
   "execution_count": null,
   "metadata": {
    "id": "cnL70ams_wQB"
   },
   "outputs": [],
   "source": [
    "# votre code ici"
   ]
  },
  {
   "cell_type": "markdown",
   "metadata": {
    "id": "hM48srdhoD-P"
   },
   "source": [
    "<font color=\"orange\" size=\"4\">➽ Affichez les mêmes informations mais triée de la plus à la moins peuplée : \n",
    "\n",
    "(vous précéderez du nombre de ces villes)</font>"
   ]
  },
  {
   "cell_type": "code",
   "execution_count": null,
   "metadata": {
    "id": "ispTnprC_yJE"
   },
   "outputs": [],
   "source": [
    "# votre code ici"
   ]
  },
  {
   "cell_type": "markdown",
   "metadata": {
    "id": "XRgqs2oJppE_"
   },
   "source": [
    "<font color=\"orange\" size=\"4\">➽ Affichez les noms des villes de plus de 10000 habitants en 2012 situées en Ille et vilaine : \n",
    "\n",
    "(vous précéderez du nombre de ces villes)</font>"
   ]
  },
  {
   "cell_type": "code",
   "execution_count": null,
   "metadata": {
    "id": "JtfdTIGD_0V9"
   },
   "outputs": [],
   "source": [
    "# votre code ici"
   ]
  },
  {
   "cell_type": "markdown",
   "metadata": {
    "id": "WUGIWnK-qqTl"
   },
   "source": [
    "Sur cette dernière requête, vous devez remarquer que les villes sont restées **triées** par nombre d'hab décroissant.\n",
    "\n",
    "Deux dernières petite chose : il est aussi possible dajouter des colonnes, et bien sur aussi d'enregistrer notre travail !"
   ]
  },
  {
   "cell_type": "code",
   "execution_count": null,
   "metadata": {
    "colab": {
     "base_uri": "https://localhost:8080/"
    },
    "id": "026sRT_qr8TE",
    "outputId": "b46cd769-dc45-480b-8f04-b71b4a04fcf6"
   },
   "outputs": [
    {
     "data": {
      "text/plain": [
       "{'alt_max': '127',\n",
       " 'alt_min': '27',\n",
       " 'cp': '75001-75002-75003-75004-75005-75006-75007-75008-75009-75010-75011-75012-75013-75014-75015-75016-75017-75018-75019-75020-75116',\n",
       " 'dens': '21288',\n",
       " 'dep': '75',\n",
       " 'diff2012_2010': -32833,\n",
       " 'lat': '48.86',\n",
       " 'long': '2.34445',\n",
       " 'nb_hab_1999': '2125851',\n",
       " 'nb_hab_2010': '2243833',\n",
       " 'nb_hab_2012': '2211000',\n",
       " 'nom': 'Paris',\n",
       " 'surf': '105.4'}"
      ]
     },
     "execution_count": 103,
     "metadata": {
      "tags": []
     },
     "output_type": "execute_result"
    }
   ],
   "source": [
    "for v in villes :\n",
    "    v['diff2012_2010'] = int(v['nb_hab_2012']) - int(v['nb_hab_2010'])\n",
    "villes[0]"
   ]
  },
  {
   "cell_type": "markdown",
   "metadata": {
    "id": "QdBwla5afBSN"
   },
   "source": [
    "<font color=\"orange\" size=\"4\">➽ Pouvez vous faire afficher ces informations :</font>\n",
    "\n",
    "```\n",
    "il y a  14956  villes dont la population a augmenté entre 2010 et  2012<br>\n",
    "La plus forte hausse est de + 3303  à  Le Havre<br>\n",
    "la variation totale de population pour ces villes en croissance est de  627487<br>\n",
    "la variation totale de population pour l'ensemble des villes Françaises est de  -621369\n",
    "```"
   ]
  },
  {
   "cell_type": "code",
   "execution_count": null,
   "metadata": {
    "id": "J8hvPZvc__kl"
   },
   "outputs": [],
   "source": [
    "# votre code ici"
   ]
  },
  {
   "cell_type": "markdown",
   "metadata": {
    "id": "BhNDh2Vz3_Db"
   },
   "source": [
    "<font color=\"orange\" size=\"4\">➽ Enregistrons le travail</font>\n"
   ]
  },
  {
   "cell_type": "code",
   "execution_count": null,
   "metadata": {
    "id": "gNhFODJg4AEe"
   },
   "outputs": [],
   "source": [
    "# on extrait une portion du fichier :\n",
    "vPlus = [(v['nom'],v['nb_hab_2010'],v['nb_hab_2012'],v['diff2012_2010']) for v in villes if v['diff2012_2010'] > 0 ]\n",
    "\n",
    "# et on enregistre :\n",
    "with open('villes_hausse2012.csv', 'w', newline='') as csvfile:\n",
    "    fieldnames = ['nom', 'nb_hab_2010', 'nb_hab_2012','diff2012_2010']\n",
    "    writer = csv.DictWriter(csvfile, fieldnames=fieldnames)\n",
    "\n",
    "    writer.writeheader()\n",
    "    for v in vPlus :\n",
    "        writer.writerow({'nom': v[0], 'nb_hab_2010': v[1],'nb_hab_2012':v[2] ,'diff2012_2010':v[3]})\n"
   ]
  },
  {
   "cell_type": "markdown",
   "metadata": {
    "id": "a4PqVScQ55Fg"
   },
   "source": [
    "double cliquez le fichier créé pour vérifier."
   ]
  },
  {
   "cell_type": "code",
   "execution_count": null,
   "metadata": {
    "id": "7KCxXLWebHj8"
   },
   "outputs": [],
   "source": [
    "# autre approche : créer la liste de dictionnaires lors de la requête :\n",
    "vPlus = [{ 'nom':v['nom'] ,\\\n",
    "          'nb_hab_2010':v['nb_hab_2010'] , \\\n",
    "          'nb_hab_2012':v['nb_hab_2012'], \\\n",
    "          'diff2012_2010':v['diff2012_2010'] }\\\n",
    "            for v in villes if v['diff2012_2010'] > 0 ]\n",
    "\n",
    "# et on enregistre :\n",
    "with open('villes_hausse2012_2.csv', 'w', newline='') as csvfile:\n",
    "    fieldnames = v.keys()\n",
    "    writer = csv.DictWriter(csvfile, fieldnames=fieldnames)\n",
    "    writer.writeheader()\n",
    "    for v in vPlus :\n",
    "        writer.writerow(v)"
   ]
  },
  {
   "cell_type": "markdown",
   "metadata": {
    "id": "6CtJ_thhXR8c"
   },
   "source": [
    "<font color=\"orange\" size=\"5\"><b><center>Deuxième partie : des \n",
    "fonctions génériques</center></b></font>\n",
    "\n",
    "Dans cette seconde partie, nous allons simplifier les traitements en écrivant quelques fonctions génériques."
   ]
  },
  {
   "cell_type": "code",
   "execution_count": null,
   "metadata": {
    "id": "7deKgCN8afRf"
   },
   "outputs": [],
   "source": [
    "# On commence par relire les 2 fichiers comme à l'origine :\n",
    "villes = readCSV('villes.csv')\n",
    "personnes = readCSV('personnes.csv')"
   ]
  },
  {
   "cell_type": "markdown",
   "metadata": {
    "id": "ygpKAM9fYJsJ"
   },
   "source": [
    "<font color=\"orange\" size=\"4\">➽ écrire une fonction size(lstDict) qui renvoi un tuple (nombre de lignes,nombre de colonnes) de la liste de dictionnaires</font>"
   ]
  },
  {
   "cell_type": "code",
   "execution_count": null,
   "metadata": {
    "id": "yDO8twAua9Eq"
   },
   "outputs": [],
   "source": [
    "def size( lstDict:list ) -> tuple :\n",
    "    '''\n",
    "    Entrée : une liste de dictionnaires\n",
    "    Sortie : tuple : (nb_d_enregistrements,nb_de_colonnes)\n",
    "    Si la liste est vide on renvoie (0,0)\n",
    "    '''\n",
    "    pass\n"
   ]
  },
  {
   "cell_type": "markdown",
   "metadata": {
    "id": "J0ZxA-cybOke"
   },
   "source": [
    "✅ vérification"
   ]
  },
  {
   "cell_type": "code",
   "execution_count": null,
   "metadata": {
    "id": "9Q4S3FJRbOkg"
   },
   "outputs": [],
   "source": [
    "assert size(villes) == (36700,12)\n",
    "assert size(personnes) == (11,3)\n",
    "assert size([]) == (0,0)"
   ]
  },
  {
   "cell_type": "markdown",
   "metadata": {
    "id": "iXPG3Aqtbd9y"
   },
   "source": [
    "<font color=\"orange\" size=\"4\">➽ écrire une fonction head(lstDict,n = 10) </font>\n",
    "\n",
    "qui AFFICHE EN CONSOLE les n premiers enregistrements\n",
    "\n",
    "par défaut n vaut 10"
   ]
  },
  {
   "cell_type": "code",
   "execution_count": null,
   "metadata": {
    "id": "kKDlQnBUbd9z"
   },
   "outputs": [],
   "source": [
    "def head( lstDict:list , n=10 ) -> None :\n",
    "    '''\n",
    "    Entrée : une liste de dictionnaires, et un entier optionnel n\n",
    "    par défaut n = 10\n",
    "    Sortie en console : affiche les n premier dictionnaires si la longueur de la liste \n",
    "    est supérieur à n, et affiche toute la liste sinon\n",
    "    '''\n",
    "    pass\n"
   ]
  },
  {
   "cell_type": "code",
   "execution_count": null,
   "metadata": {
    "id": "lP0mO85RzIGQ"
   },
   "outputs": [],
   "source": [
    "# utilisation :\n",
    "head(villes)\n",
    "print()\n",
    "head(personnes,3)"
   ]
  },
  {
   "cell_type": "markdown",
   "metadata": {
    "id": "iL6RoMttdE-c"
   },
   "source": [
    "L'affichage est laid ! \n",
    "Voici 2 fonctions pour améliorer cela :\n",
    "- printDictCles(dico,l) affiche les cles du dictionnaires, avec une largeur l des colonnes.\n",
    "- printDict(dico,l) affiche les valeurs du dictionnaire, avec une largeur l des colonnes."
   ]
  },
  {
   "cell_type": "code",
   "execution_count": null,
   "metadata": {
    "colab": {
     "base_uri": "https://localhost:8080/"
    },
    "id": "j6PwB3MJdST2",
    "outputId": "67ac2bb1-5ada-41f6-88c0-38f37d78fe32"
   },
   "outputs": [
    {
     "name": "stdout",
     "output_type": "stream",
     "text": [
      "nom                 prenom              age                 \n",
      "------------------------------------------------------------\n",
      "Mastic              Brice               61                  \n"
     ]
    }
   ],
   "source": [
    "def printDictCles(dico:dict,l:int) -> None :\n",
    "    '''\n",
    "    Procédure qui prend en paramètre un dictionnaire et un entier l\n",
    "    Affiche les clefs du dictionnaire avec une largeur fixe égale à l\n",
    "    affiche une ligne ---- en dessous (de la bonne largeur)\n",
    "    '''\n",
    "    cles = dico.keys()\n",
    "    for k in cles :\n",
    "        print(format(k,str(l)),end=\"\")\n",
    "    print()\n",
    "    print('-'*l*len(cles))\n",
    "\n",
    "def printDict(dico:dict,l:int) -> None :\n",
    "    '''\n",
    "    Procédure qui prend en paramètre un dictionnaire et un entier l\n",
    "    Affiche les valeurs du dictionnaire avec une largeur fixe égale à l\n",
    "    Les valeurs sont tronquée à longueur l-1 si elle dépasse la largeur l\n",
    "    '''\n",
    "    for e in dico :\n",
    "        s = str(dico[e])\n",
    "        if len(s) >= l : s=s[:l-1]\n",
    "        print(format(s,str(l)),end=\"\")\n",
    "    print()\n",
    "printDictCles(personnes[0],20)\n",
    "printDict(personnes[0],20)"
   ]
  },
  {
   "cell_type": "markdown",
   "metadata": {
    "id": "fvOtGOx8gBsY"
   },
   "source": [
    "<font color=\"orange\" size=\"4\">➽ Réécrire la fonction head(lstDict,n = 10, l=20) en utilisant les 2 fonctions ci-dessus</font>\n",
    "\n",
    "par défaut n vaut 10 et l=20"
   ]
  },
  {
   "cell_type": "code",
   "execution_count": null,
   "metadata": {
    "id": "IsxtWrljfunO"
   },
   "outputs": [],
   "source": [
    "def head(lstDict,n=10,l=20) -> None:\n",
    "    '''\n",
    "    Procédure qui prend en paramètre une liste de dictionnaires\n",
    "    et 2 paramètres entiers optionnels n et l\n",
    "    Affiche les n premières valeurs du dictionnaire avec une largeur fixe égale à l\n",
    "    Les valeurs sont tronquée à longueur l-1 si elle dépasse la largeur l\n",
    "    si n est supérieur a la longueur de la liste, toute la liste est affichée.\n",
    "    si la liste est vide : retourne sans rien faire\n",
    "    '''\n",
    "    pass"
   ]
  },
  {
   "cell_type": "code",
   "execution_count": null,
   "metadata": {
    "id": "aCzLRns9TyHx"
   },
   "outputs": [],
   "source": [
    "# test :\n",
    "head(villes)"
   ]
  },
  {
   "cell_type": "code",
   "execution_count": null,
   "metadata": {
    "id": "__CxqtaDNNo7"
   },
   "outputs": [],
   "source": [
    "head(villes,l=30)"
   ]
  },
  {
   "cell_type": "code",
   "execution_count": null,
   "metadata": {
    "id": "0HyPSD3tNNtO"
   },
   "outputs": [],
   "source": [
    "head(personnes,5,12)"
   ]
  },
  {
   "cell_type": "code",
   "execution_count": null,
   "metadata": {
    "id": "PfQrOg0_NNxJ"
   },
   "outputs": [],
   "source": [
    "head(personnes,5,7)\n"
   ]
  },
  {
   "cell_type": "code",
   "execution_count": null,
   "metadata": {
    "id": "kqwStBUqNg57"
   },
   "outputs": [],
   "source": [
    "head([]) # n'affiche rien mais ne doit pas lever une exception"
   ]
  },
  {
   "cell_type": "code",
   "execution_count": null,
   "metadata": {
    "id": "JkTy6MZki_DZ"
   },
   "outputs": [],
   "source": [
    "# ou, si on veux afficher toute la liste :\n",
    "def printLstDict(lstDict:dict,l:int) -> None :\n",
    "    '''\n",
    "    Procédure qui prend en paramètre une liste de dictionnaires\n",
    "    et 1 paramètres entier optionnel l\n",
    "    Affiche les valeurs du dictionnaire avec une largeur fixe égale à l\n",
    "    Les valeurs sont tronquée à longueur l-1 si elle dépasse la largeur l\n",
    "    si la liste est vide : retourne sans rien faire\n",
    "    '''\n",
    "    pass"
   ]
  },
  {
   "cell_type": "code",
   "execution_count": null,
   "metadata": {
    "colab": {
     "base_uri": "https://localhost:8080/"
    },
    "id": "ESgJA6K10bvz",
    "outputId": "833bd30e-0294-493a-875e-e27c3c7b1d30"
   },
   "outputs": [
    {
     "name": "stdout",
     "output_type": "stream",
     "text": [
      "nom         prenom      age         \n",
      "------------------------------------\n",
      "Mastic      Brice       61          \n",
      "Dupont      Christophe  51          \n",
      "Arox        Gilles      51          \n",
      "Kapri       Leon        45          \n",
      "Terta       Henry       37          \n",
      "Durand      Jean-Pierre 32          \n",
      "Follin      Paul        32          \n",
      "Pouyeau     Maxime      27          \n",
      "Herpan      stephan     22          \n",
      "Lenard      Michel      17          \n",
      "Lenard      Georges     15          \n",
      "\n"
     ]
    }
   ],
   "source": [
    "printLstDict(personnes,l=12)"
   ]
  },
  {
   "cell_type": "markdown",
   "metadata": {
    "id": "SZj52mm7ho4_"
   },
   "source": [
    "<font color=\"orange\" size=\"4\">➽ écrire une fonction recherche(lstDict,cle,val)</font>\n",
    "\n",
    "qui renvoie une listes de dictionnaires contenant les enregistrements ou la cle à la valeur val"
   ]
  },
  {
   "cell_type": "code",
   "execution_count": null,
   "metadata": {
    "id": "KFkOSNJYho5C"
   },
   "outputs": [],
   "source": [
    "def recherche(lstDict:list , cle: str , val:str ) -> list :\n",
    "    '''\n",
    "    Entrées : \n",
    "        lstDict : une liste de dictionnaires\n",
    "        cle : nom (str) d'une colonne (cle des dictionnaires)\n",
    "        val : val (str) recherchée\n",
    "    Sortie : la liste des dictionnaires d qui satisfont la recherche d[cle] = val\n",
    "    '''\n",
    "    pass"
   ]
  },
  {
   "cell_type": "markdown",
   "metadata": {
    "id": "k4gEdvcIho5D"
   },
   "source": [
    "✅ vérification"
   ]
  },
  {
   "cell_type": "code",
   "execution_count": null,
   "metadata": {
    "id": "liACnzrUho5E"
   },
   "outputs": [],
   "source": [
    "assert recherche(personnes,'nom','Lenard') == [{'age': '17', 'nom': 'Lenard', 'prenom': 'Michel'}, {'age': '15', 'nom': 'Lenard', 'prenom': 'Georges'}]"
   ]
  },
  {
   "cell_type": "code",
   "execution_count": null,
   "metadata": {
    "id": "1w5foljNNv4j"
   },
   "outputs": [],
   "source": [
    "nantes = recherche(villes,'nom','Nantes')\n",
    "printLstDict(nantes,20)"
   ]
  },
  {
   "cell_type": "code",
   "execution_count": null,
   "metadata": {
    "id": "p8JeaUJVNwCN"
   },
   "outputs": [],
   "source": [
    "head(nantes)"
   ]
  },
  {
   "cell_type": "code",
   "execution_count": null,
   "metadata": {
    "id": "GspZN6qyNwLI"
   },
   "outputs": [],
   "source": [
    "printLstDict(recherche(villes,'nom','Lille'),20)"
   ]
  },
  {
   "cell_type": "code",
   "execution_count": null,
   "metadata": {
    "id": "R_sZSmHKNwUO"
   },
   "outputs": [],
   "source": [
    "printLstDict(recherche(villes,'nom','AAA'),20)"
   ]
  },
  {
   "cell_type": "markdown",
   "metadata": {
    "id": "IkWl5yHynNgh"
   },
   "source": [
    "<font color=\"orange\" size=\"4\">➽ écrire une fonction rechercheIntMoreThan(lstDict,cle,val)</font>\n",
    "\n",
    "qui renvoi une listes de dictionnaires contenant les enregistrements ou la valeur de cle > val\n",
    "\n",
    "(on convertira en integer les valeurs)"
   ]
  },
  {
   "cell_type": "code",
   "execution_count": null,
   "metadata": {
    "id": "2XeAMT5lnNgj"
   },
   "outputs": [],
   "source": [
    "def rechercheIntMoreThan( lstDict:list , cle:str , val:str ) -> list :\n",
    "    '''\n",
    "    Entrées : \n",
    "        lstDict : une liste de dictionnaires\n",
    "        cle : nom (str) d'une colonne (cle des dictionnaires)\n",
    "        val : val (str) recherchée\n",
    "    Sortie : la liste des dictionnaires d qui satisfont la recherche d[cle] > val\n",
    "    avec une comparaison sur des int()\n",
    "    '''\n",
    "    pass"
   ]
  },
  {
   "cell_type": "markdown",
   "metadata": {
    "id": "ZEksoE2cnNgl"
   },
   "source": [
    "✅ test"
   ]
  },
  {
   "cell_type": "code",
   "execution_count": null,
   "metadata": {
    "colab": {
     "base_uri": "https://localhost:8080/"
    },
    "id": "fY1P8h0vnNgm",
    "outputId": "9eebb1c6-eebd-42e6-cef1-c12529bec5a1"
   },
   "outputs": [
    {
     "name": "stdout",
     "output_type": "stream",
     "text": [
      "dep                 nom                 cp                  nb_hab_2010         nb_hab_1999         nb_hab_2012         dens                surf                long                lat                 alt_min             alt_max             \n",
      "------------------------------------------------------------------------------------------------------------------------------------------------------------------------------------------------------------------------------------------------\n",
      "6                   Nice                06000-06100-06200-0 343304              343123              344900              4773                71.92               7.25                43.7                0                   520                 \n",
      "13                  Marseille           13001-13002-13003-1 850726              797491              851400              3535                240.62              5.37639             43.2967             0                   640                 \n",
      "31                  Toulouse            31000-31100-31200-3 441802              390301              439600              3734                118.3               1.43333             43.6                115                 263                 \n",
      "69                  Lyon                69001-69002-69003-6 484344              445274              474900              10117               47.87               4.84139             45.7589             162                 312                 \n",
      "75                  Paris               75001-75002-75003-7 2243833             2125851             2211000             21288               105.4               2.34445             48.86               27                  127                 \n",
      "\n"
     ]
    }
   ],
   "source": [
    "more300k = rechercheIntMoreThan(villes,'nb_hab_2012',300000)\n",
    "printLstDict(more300k,20)"
   ]
  },
  {
   "cell_type": "markdown",
   "metadata": {
    "id": "nn6GsKp7occp"
   },
   "source": [
    "<font color=\"orange\" size=\"4\">➽ écrire une fonction rechercheMoreThan(lstDict,cle,val)</font>\n",
    "\n",
    "qui renvoi une listes de dictionnaires contenant les enregistrements ou la valeur de cle > val\n",
    "\n",
    "(cette fois, on ne convertira pas en integer les valeurs)"
   ]
  },
  {
   "cell_type": "code",
   "execution_count": null,
   "metadata": {
    "id": "FuaTlY5MocdI"
   },
   "outputs": [],
   "source": [
    "def rechercheMoreThan( lstDict:list , cle:str , val:str ) -> list :\n",
    "    '''\n",
    "    Entrées : \n",
    "        lstDict : une liste de dictionnaires\n",
    "        cle : nom (str) d'une colonne (cle des dictionnaires)\n",
    "        val : val (str) recherchée\n",
    "    Sortie : la liste des dictionnaires d qui satisfont la recherche d[cle] > val\n",
    "    avec une comparaison sur des str\n",
    "    '''\n",
    "    pass"
   ]
  },
  {
   "cell_type": "markdown",
   "metadata": {
    "id": "AAd-KbSbocdK"
   },
   "source": [
    "✅ test"
   ]
  },
  {
   "cell_type": "code",
   "execution_count": null,
   "metadata": {
    "colab": {
     "base_uri": "https://localhost:8080/"
    },
    "id": "5L2s0zI1ocdO",
    "outputId": "451beda0-2c14-4710-e82e-157d2b564042"
   },
   "outputs": [
    {
     "name": "stdout",
     "output_type": "stream",
     "text": [
      "dep                 nom                 cp                  nb_hab_2010         nb_hab_1999         nb_hab_2012         dens                surf                long                lat                 alt_min             alt_max             \n",
      "------------------------------------------------------------------------------------------------------------------------------------------------------------------------------------------------------------------------------------------------\n",
      "1                   Ozan                1190                618                 469                 500                 93                  6.6                 4.91667             46.3833             170                 205                 \n",
      "1                   Torcieu             1230                698                 643                 700                 65                  10.72               5.4                 45.9167             257                 782                 \n",
      "1                   Replonges           1620                3500                2841                3300                210                 16.6                4.88333             46.3                169                 207                 \n",
      "1                   Relevant            1990                466                 367                 400                 37                  12.38               4.95                46.0833             235                 282                 \n",
      "1                   Chaveyriat          1660                927                 810                 900                 54                  16.87               5.06667             46.1833             188                 260                 \n",
      "1                   Maillat             1430                668                 664                 700                 59                  11.31               5.55                46.1333             497                 825                 \n",
      "1                   Faramans            1800                681                 591                 600                 60                  11.22               5.11667             45.9                255                 306                 \n",
      "1                   Béon                1350                373                 364                 400                 36                  10.3                5.75                45.8333             228                 1412                \n",
      "1                   Nantua              1460                3713                3922                3600                290                 12.79               5.61667             46.15               427                 1125                \n",
      "1                   Chavannes-sur-Reyss 1190                680                 580                 700                 41                  16.55               5                   46.4333             175                 218                 \n",
      "1                   Charnoz-sur-Ain     1800                911                 808                 900                 137                 6.62                5.21667             45.8667             203                 244                 \n",
      "1                   Hauteville-Lompnes  1110                4044                3653                4200                80                  50.34               5.6                 45.9667             455                 1240                \n",
      "1                   Montréal-la-Cluse   1460                3457                3699                3500                269                 12.83               5.57084             46.1867             473                 960                 \n",
      "1                   Saint-Genis-Pouilly 1630                8914                6382                8400                912                 9.77                6.01667             46.25               419                 502                 \n",
      "1                   Chanoz-Châtenay     1400                706                 492                 700                 52                  13.42               5.03333             46.1833             194                 268                 \n",
      "1                   Revonnas            1250                788                 493                 700                 101                 7.75                5.33333             46.1667             255                 504                 \n",
      "1                   Condeissiat         1400                756                 649                 700                 34                  21.64               5.08333             46.1667             232                 268                 \n",
      "1                   Le Plantay          1330                540                 416                 500                 27                  19.96               5.08333             46.0167             267                 286                 \n",
      "1                   Vieu                1260                380                 311                 400                 58                  6.54                5.68333             45.9                280                 540                 \n",
      "1                   Bressolles          1360                709                 587                 700                 91                  7.73                5.1                 45.8667             205                 292                 \n"
     ]
    },
    {
     "data": {
      "text/plain": [
       "(13195, 12)"
      ]
     },
     "execution_count": 190,
     "metadata": {
      "tags": []
     },
     "output_type": "execute_result"
    }
   ],
   "source": [
    "more300k = rechercheMoreThan( villes , 'nb_hab_2012' , '300000' )\n",
    "head(more300k,20)\n",
    "size(more300k)"
   ]
  },
  {
   "cell_type": "markdown",
   "metadata": {
    "id": "_UBfix9_pC9t"
   },
   "source": [
    "On a un petit souci là non ?\n",
    "\n",
    "Pouvez expliquer pourquoi Torcieu est affiché, avec ses 700 habitants ? 700 est il plus grand que 300000 ?"
   ]
  },
  {
   "cell_type": "markdown",
   "metadata": {
    "id": "B0r2Mz6JuHm6"
   },
   "source": [
    "<font color=\"orange\" size=\"4\">➽ écrire une fonction triLstDict(lstDict,cleTrie)</font>\n",
    "\n",
    "qui trie la liste de dictionnaires selon une cle de tri qui doit être écrite par ailleurs"
   ]
  },
  {
   "cell_type": "code",
   "execution_count": null,
   "metadata": {
    "id": "hRf2A_XBuHnE"
   },
   "outputs": [],
   "source": [
    "def triLstDict( lstDict:list , cleTri) -> None:\n",
    "    '''\n",
    "    Procédure\n",
    "    Entrées : \n",
    "        lstDict : une liste de dictionnaires\n",
    "        cleTri : nom d'une clef de tri (fonction)\n",
    "    La liste triée selon la clef de tri (effet de bord)\n",
    "    '''\n",
    "    pass"
   ]
  },
  {
   "cell_type": "markdown",
   "metadata": {
    "id": "JdgFByOguHnF"
   },
   "source": [
    "✅ test"
   ]
  },
  {
   "cell_type": "code",
   "execution_count": null,
   "metadata": {
    "colab": {
     "base_uri": "https://localhost:8080/"
    },
    "id": "EV32bwnmuHnF",
    "outputId": "4f3fd1b6-943f-4ef2-ec48-cac62874a9d8"
   },
   "outputs": [
    {
     "name": "stdout",
     "output_type": "stream",
     "text": [
      "nom                 prenom              age                 \n",
      "------------------------------------------------------------\n",
      "Lenard              Georges             15                  \n",
      "Lenard              Michel              17                  \n",
      "Herpan              stephan             22                  \n",
      "Pouyeau             Maxime              27                  \n",
      "Durand              Jean-Pierre         32                  \n",
      "Follin              Paul                32                  \n",
      "Terta               Henry               37                  \n",
      "Kapri               Leon                45                  \n",
      "Dupont              Christophe          51                  \n",
      "Arox                Gilles              51                  \n",
      "Mastic              Brice               61                  \n",
      "\n"
     ]
    }
   ],
   "source": [
    "# crée une cle_age permettant de trier personnes\n",
    "# puis triez et affichez le résultat"
   ]
  },
  {
   "cell_type": "markdown",
   "metadata": {
    "id": "AfLWiHflvT7E"
   },
   "source": [
    "<font color=\"orange\" size=\"4\">➽ modifier la fonction triLstDict(lstDict,cleTrie)</font>\n",
    "\n",
    "ajoutez un argumement reverse dont la valeur par défaut est False. Puis testez votre fonction modifiée en faisant un tri dans un sens et dans l'autre."
   ]
  },
  {
   "cell_type": "code",
   "execution_count": null,
   "metadata": {
    "id": "Vj_oJfLhvT7N"
   },
   "outputs": [],
   "source": [
    "def triLstDict(lstDict,cleTri,reverse = False) :\n",
    "    '''\n",
    "    Procédure\n",
    "    Entrées : \n",
    "        lstDict : une liste de dictionnaires\n",
    "        cleTri : nom d'une clef de tri (fonction)\n",
    "        optionnel : reverse (True ou False)\n",
    "    La liste triée selon la clef de tri (effet de bord) par défut ordre croissant, \n",
    "    décroissant sir reverse est présent et égal à False\n",
    "    '''\n",
    "    pass"
   ]
  },
  {
   "cell_type": "markdown",
   "metadata": {
    "id": "ZruuqiWSvT7N"
   },
   "source": [
    "✅ test"
   ]
  },
  {
   "cell_type": "code",
   "execution_count": null,
   "metadata": {
    "colab": {
     "base_uri": "https://localhost:8080/"
    },
    "id": "FCMCsdLmvT7N",
    "outputId": "cdcd8dcb-16ab-4fb3-bbc9-9b3e0f0b8640"
   },
   "outputs": [
    {
     "name": "stdout",
     "output_type": "stream",
     "text": [
      "nom                 prenom              age                 \n",
      "------------------------------------------------------------\n",
      "Lenard              Georges             15                  \n",
      "Lenard              Michel              17                  \n",
      "Herpan              stephan             22                  \n",
      "Pouyeau             Maxime              27                  \n",
      "Durand              Jean-Pierre         32                  \n",
      "Follin              Paul                32                  \n",
      "Terta               Henry               37                  \n",
      "Kapri               Leon                45                  \n",
      "Dupont              Christophe          51                  \n",
      "Arox                Gilles              51                  \n",
      "Mastic              Brice               61                  \n",
      "\n",
      "\n",
      "nom                 prenom              age                 \n",
      "------------------------------------------------------------\n",
      "Mastic              Brice               61                  \n",
      "Dupont              Christophe          51                  \n",
      "Arox                Gilles              51                  \n",
      "Kapri               Leon                45                  \n",
      "Terta               Henry               37                  \n",
      "Durand              Jean-Pierre         32                  \n",
      "Follin              Paul                32                  \n",
      "Pouyeau             Maxime              27                  \n",
      "Herpan              stephan             22                  \n",
      "Lenard              Michel              17                  \n",
      "Lenard              Georges             15                  \n",
      "\n"
     ]
    }
   ],
   "source": [
    "# crée une cle_age permettant de trier personnes\n",
    "# puis triez et affichez le résultat en triant\n",
    "# successivement croissant et décroissant\n"
   ]
  },
  {
   "cell_type": "markdown",
   "metadata": {
    "id": "wqFNquf3-L9A"
   },
   "source": [
    "<center><font color=\"darkyellow' size=\"5\"><b>RETENIR</b></font>\n",
    "\n",
    "![image.png](data:image/png;base64,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)\n",
    "\n",
    "</center>"
   ]
  },
  {
   "cell_type": "markdown",
   "metadata": {
    "id": "XLipVDWablEf"
   },
   "source": [
    "<font color=\"orange\" size=\"5\"><b><center>Quelques graphiques</center></b></font>"
   ]
  },
  {
   "cell_type": "markdown",
   "metadata": {
    "id": "Isj4jMLYNal7"
   },
   "source": [
    "Gérer des grandes quantités de données, extraire des informations, effectuer des calculs etc...\n",
    "\n",
    "C'est très bien, mais la présentation de grandes quantités de données demande souvent de recourir à des graphiques. \n",
    "\n",
    "Ci-dessous, quelques graphiques pour vous familiariser avec la librairie matplotlib."
   ]
  },
  {
   "cell_type": "code",
   "execution_count": null,
   "metadata": {
    "colab": {
     "base_uri": "https://localhost:8080/",
     "height": 293
    },
    "id": "6lqYKzkHb00K",
    "outputId": "71797659-40fe-4609-b929-fc82d7bd84e0"
   },
   "outputs": [
    {
     "name": "stdout",
     "output_type": "stream",
     "text": [
      "[2125851, 2243833, 2211000]\n"
     ]
    },
    {
     "data": {
      "image/png": "[encoded data removed]",
      "text/plain": [
       "<Figure size 432x288 with 1 Axes>"
      ]
     },
     "metadata": {
      "needs_background": "light",
      "tags": []
     },
     "output_type": "display_data"
    }
   ],
   "source": [
    "# une courbe montrant la population de Paris en 1999, 2010 et 2012\n",
    "\n",
    "# en abcisse :\n",
    "annee = [1999,2010,2012]\n",
    "# en ordonnée : créez la liste [n99,n2010,n2012] \n",
    "# avec le nombre d'hab chaque année à Paris\n",
    "Paris = recherche(villes,'nom','Paris')[0]\n",
    "habParis = [ Paris[c] for c in ['nb_hab_1999','nb_hab_2010','nb_hab_2012']]\n",
    "\n",
    "# graphique\n",
    "import matplotlib.pyplot as plt\n",
    "plt.plot(annee, habParis, \"ro-\",label='Paris') \n",
    "# ro- signifie : (r)ed+(o)pen circle+(-)trait continu\n",
    "plt.legend()\n",
    "\n",
    "plt.show()"
   ]
  },
  {
   "cell_type": "code",
   "execution_count": null,
   "metadata": {
    "colab": {
     "base_uri": "https://localhost:8080/",
     "height": 276
    },
    "id": "f5hxVYBxgMJ9",
    "outputId": "4dcd17e4-a5c4-4132-940a-2db7c53dc5ed"
   },
   "outputs": [
    {
     "data": {
      "image/png": "[encoded data removed]",
      "text/plain": [
       "<Figure size 432x288 with 1 Axes>"
      ]
     },
     "metadata": {
      "needs_background": "light",
      "tags": []
     },
     "output_type": "display_data"
    }
   ],
   "source": [
    "# une courbe montrant le nombre d'ha des grandes villes\n",
    "# en abcisse :\n",
    "lstV = ['Paris','Lyon','Marseille','Lille','Toulouse','Nice']\n",
    "nomVilles =  [ v['nom'] for v in villes if v['nom'] in lstV ]\n",
    "# en ordonnée : créez la liste des nb ha de ces villes \n",
    "# avec le nombre d'hab chaque année à Paris\n",
    "nb_hab = [ v['nb_hab_2012'] for v in villes if v['nom'] in lstV ]\n",
    "\n",
    "# graphique\n",
    "import matplotlib.pyplot as plt\n",
    "plt.plot(nomVilles, nb_hab, \"gd--\",label='nb d\\'habitants') \n",
    "plt.legend()\n",
    "# gd-- signifie : (g)reeb+(d)iamonds + (--)trait pointillé\n",
    "plt.show()"
   ]
  },
  {
   "cell_type": "code",
   "execution_count": null,
   "metadata": {
    "colab": {
     "base_uri": "https://localhost:8080/",
     "height": 308
    },
    "id": "EpoBLZxGhdTJ",
    "outputId": "03232a9a-2d48-4ac9-c757-e5b6b8eaa921"
   },
   "outputs": [
    {
     "data": {
      "image/png": "[encoded data removed]",
      "text/plain": [
       "<Figure size 432x288 with 1 Axes>"
      ]
     },
     "metadata": {
      "needs_background": "light",
      "tags": []
     },
     "output_type": "display_data"
    }
   ],
   "source": [
    "# Un diagramme en baton serait plus indiqué :\n",
    "x = [i for i in range(len(lstV))] # abcisses des batons\n",
    "height = nb_hab # hauteur des batons\n",
    "width = 0.8 # largeur des batons\n",
    "names = nomVilles # etiquettes en abcisses\n",
    "plt.bar(x, height, width, color='red' , label=\"titre\") # dessine les batons\n",
    "\n",
    "plt.xticks(x, names, rotation=40) # affiche les noms des villes\n",
    "plt.legend()\n",
    "plt.title('titre du dessin')\n",
    "plt.show()"
   ]
  },
  {
   "cell_type": "code",
   "execution_count": null,
   "metadata": {
    "colab": {
     "base_uri": "https://localhost:8080/",
     "height": 318
    },
    "id": "9_bf6r6qmHoK",
    "outputId": "7816630c-ac16-40d2-bba4-af0d1dd10677"
   },
   "outputs": [
    {
     "data": {
      "text/plain": [
       "<matplotlib.legend.Legend at 0x7ff882386b90>"
      ]
     },
     "execution_count": 93,
     "metadata": {
      "tags": []
     },
     "output_type": "execute_result"
    },
    {
     "data": {
      "image/png": "[encoded data removed]",
      "text/plain": [
       "<Figure size 432x288 with 1 Axes>"
      ]
     },
     "metadata": {
      "needs_background": "light",
      "tags": []
     },
     "output_type": "display_data"
    }
   ],
   "source": [
    "# un autre :\n",
    "n100 = len([v['nb_hab_2012'] for v in villes if v['nb_hab_2012'] <= 500])\n",
    "n1000 = len([v['nb_hab_2012'] for v in villes if 500 <v['nb_hab_2012'] <= 1000])\n",
    "n5000 = len([v['nb_hab_2012'] for v in villes if 1000 <v['nb_hab_2012'] <= 5000])\n",
    "n10000 = len([v['nb_hab_2012'] for v in villes if 5000 <v['nb_hab_2012'] <= 10000])\n",
    "nplus = len([v['nb_hab_2012'] for v in villes if 10000 <v['nb_hab_2012'] ])\n",
    "x= [1,2,3,4,5]\n",
    "names = ['<500','500-1000','1000-5000','5000-10000','>10000']\n",
    "y = [n100,n1000,n5000,n10000,nplus]\n",
    "plt.bar(x, y, width, color='red' , label=\"nombre de communes\\n selon la taille (2012)\") # dessine les batons\n",
    "plt.xticks(x, names, rotation=40) # affiche les noms des villes\n",
    "plt.legend()"
   ]
  },
  {
   "cell_type": "markdown",
   "metadata": {
    "id": "UrHwTvOZVX5-"
   },
   "source": [
    "\n",
    "<center>\n",
    "\n",
    "---\n",
    "\n",
    "*Auteurs* :  **Jean-Louis Thirot - Mireille Coilhac**\n",
    "\n",
    "Publié sous licence CC BY-NC-SA\n",
    "\n",
    "\n",
    "---\n",
    "<a rel=\"license\" href=\"http://creativecommons.org/licenses/by-nc-sa/4.0/\"><img alt=\"Creative Commons License\" style=\"border-width:0\" width=\"200\" src=\"https://s2.qwant.com/thumbr/700x0/f/9/436dcce5e02185c0b2e1b0e7a969aa81d7b0438d0a7f2eaee89abb9661b70b/cc-by-nc-sa.svg_.png?u=http%3A%2F%2Fopensiddur.org%2Fwp-content%2Fuploads%2F2011%2F03%2Fcc-by-nc-sa.svg_.png&q=0&b=1&p=0&a=1\" /></a><br />This work is licensed under a <a rel=\"license\" href=\"http://creativecommons.org/licenses/by-nc-sa/4.0/\">Creative Commons Attribution-NonCommercial-ShareAlike 4.0 International License</a>. "
   ]
  }
 ],
 "metadata": {
  "colab": {
   "collapsed_sections": [],
   "name": "Tables_csv lecture requetes tris - sujet.ipynb",
   "provenance": [],
   "toc_visible": true
  },
  "kernelspec": {
   "display_name": "Python 3",
   "language": "python",
   "name": "python3"
  },
  "language_info": {
   "codemirror_mode": {
    "name": "ipython",
    "version": 3
   },
   "file_extension": ".py",
   "mimetype": "text/x-python",
   "name": "python",
   "nbconvert_exporter": "python",
   "pygments_lexer": "ipython3",
   "version": "3.7.3"
  }
 },
 "nbformat": 4,
 "nbformat_minor": 1
}
